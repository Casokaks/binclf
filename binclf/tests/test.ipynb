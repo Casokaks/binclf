{
 "cells": [
  {
   "cell_type": "markdown",
   "id": "0b0e1632",
   "metadata": {},
   "source": [
    "# Test notebook to check installation"
   ]
  },
  {
   "cell_type": "code",
   "execution_count": 1,
   "id": "34e0022f",
   "metadata": {},
   "outputs": [],
   "source": [
    "import binclf"
   ]
  },
  {
   "cell_type": "code",
   "execution_count": 2,
   "id": "994e645a",
   "metadata": {},
   "outputs": [
    {
     "data": {
      "text/plain": [
       "'binclf'"
      ]
     },
     "execution_count": 2,
     "metadata": {},
     "output_type": "execute_result"
    }
   ],
   "source": [
    "binclf.__name__"
   ]
  },
  {
   "cell_type": "code",
   "execution_count": 3,
   "id": "212e27ce",
   "metadata": {},
   "outputs": [
    {
     "data": {
      "text/plain": [
       "'0.2.1'"
      ]
     },
     "execution_count": 3,
     "metadata": {},
     "output_type": "execute_result"
    }
   ],
   "source": [
    "binclf.__version__"
   ]
  },
  {
   "cell_type": "code",
   "execution_count": 4,
   "id": "e86909a7",
   "metadata": {},
   "outputs": [
    {
     "data": {
      "text/plain": [
       "['/opt/conda/lib/python3.7/site-packages/binclf']"
      ]
     },
     "execution_count": 4,
     "metadata": {},
     "output_type": "execute_result"
    }
   ],
   "source": [
    "binclf.__path__"
   ]
  },
  {
   "cell_type": "code",
   "execution_count": 8,
   "id": "cb7cfcc7",
   "metadata": {},
   "outputs": [],
   "source": [
    "from binclf import binclf\n",
    "from binclf import clfviz\n",
    "from binclf import dprep\n",
    "from binclf import eda\n",
    "from binclf import xgbopt"
   ]
  },
  {
   "cell_type": "code",
   "execution_count": 9,
   "id": "20e67137",
   "metadata": {},
   "outputs": [
    {
     "data": {
      "text/plain": [
       "'Test passed.'"
      ]
     },
     "execution_count": 9,
     "metadata": {},
     "output_type": "execute_result"
    }
   ],
   "source": [
    "'Test passed.'"
   ]
  }
 ],
 "metadata": {
  "environment": {
   "name": "common-cpu.m76",
   "type": "gcloud",
   "uri": "gcr.io/deeplearning-platform-release/base-cpu:m76"
  },
  "kernelspec": {
   "display_name": "Python 3",
   "language": "python",
   "name": "python3"
  },
  "language_info": {
   "codemirror_mode": {
    "name": "ipython",
    "version": 3
   },
   "file_extension": ".py",
   "mimetype": "text/x-python",
   "name": "python",
   "nbconvert_exporter": "python",
   "pygments_lexer": "ipython3",
   "version": "3.7.10"
  }
 },
 "nbformat": 4,
 "nbformat_minor": 5
}
